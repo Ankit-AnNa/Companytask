{
  "nbformat": 4,
  "nbformat_minor": 0,
  "metadata": {
    "colab": {
      "name": "Answer3.ipynb",
      "private_outputs": true,
      "provenance": []
    },
    "kernelspec": {
      "name": "python3",
      "display_name": "Python 3"
    },
    "language_info": {
      "name": "python"
    }
  },
  "cells": [
    {
      "cell_type": "code",
      "execution_count": null,
      "metadata": {
        "id": "ukI95We5vQzn"
      },
      "outputs": [],
      "source": [
        "import numpy as np\n",
        "import pandas as pd"
      ]
    },
    {
      "cell_type": "code",
      "source": [
        "data = pd.DataFrame({'Month': [\"Mar'21\",\"Mar'21\",\"Mar'21\", \"Mar'21\",\"Mar'21\",\"Mar'21\",\"Mar'21\",\"Mar'21\",\"Mar'21\",\"Mar'21\",\"Mar'21\",\"Mar'21\", \"Mar'21\",\"Mar'21\",\"Mar'21\",\"Mar'21\",\"Mar'21\",\"Mar'21\",\"Mar'21\",\"Mar'21\",\n",
        "                               \"Mar'21\",\"Mar'21\",\"Mar'21\", \"Mar'21\",\"Mar'21\",\"Mar'21\",\"Mar'21\",\"Mar'21\",\"Mar'21\",\"Mar'21\",\"Mar'21\",\"Mar'21\",\"Mar'21\",\"Mar'21\",\"Mar'21\",\"Mar'21\",\"Mar'21\"],\n",
        "                     'State': ['Jammu and Kashmir','Himachal Pradesh','Punjab','Chandigarh','Uttarakhand','Haryana','Delhi','Rajasthan','Uttar Pradesh', 'Bihar','Sikkim','Arunachal Pradesh',\n",
        "                               'Nagaland','Manipur','Mizoram','Tripura','Meghalaya','Assam','West Bengal','Jharkhand','Odisha','Chhattisgarh','Madhya Pradesh','Gujarat','Daman and Diu','Dadra and Nagar Haveli','Maharashtra','Karnataka','Goa','Lakshadweep','Kerala','Tamil Nadu',\n",
        "                               'Puducherry','Andaman and Nicobar Islands','Telangana','Andhra Pradesh','Ladakh'],\n",
        "                     'Revenue': [51.61,686.88,1361.85,165.27,1303.57,5709.60,3925.97,3351.79,6265.01,1195.75,213.66,92.03,45.48,50.36,34.93,87.9,151.97,1004.65,4386.79,2416.13,3285.29,2544.13,2728.49,\n",
        "                                  8197.04,3.29,288.49,17038.49,7914.98,344.28,1.54,1827.94,7579.18,161.04,25.66,4166.42,2685.09,13.67],\n",
        "                     '% change of revenue compared to the previous month of the state':[6.59,3.59,4.8,11.3,10.36,2.09,5.23,3.97,4.47,6.0,-3.9,5.0, 30.57,55.72,65.85,\n",
        "                                                                                       38.97,3.73,6.2,1.19,4.0,-1.65,3.7,-2.25,-0.29,0.26,2.27,5.8,4.4,0.13,234.78,1.2,8.14,1.89,10.31,14.57,1.22,5.0],\n",
        "                     '% change of revenue compared to same month from previous year for the state':[27,15,15,8,9,17,20,19,18,13,\n",
        "                                                                                                    13,38,17,40,5,31,15,8,22,18,25,22,13,20,-97,71,14,11,9,15,24,23,8,-33,17,5,1527]\n",
        "                   })"
      ],
      "metadata": {
        "id": "krW87cyqvRTE"
      },
      "execution_count": null,
      "outputs": []
    },
    {
      "cell_type": "markdown",
      "source": [
        "* *In this I'll use GST Revenue collection for March’ 21 also revenue compared to the GST Revenue collection for February' 21 month. Please check.*"
      ],
      "metadata": {
        "id": "Ul_Kzc-Twsmq"
      }
    },
    {
      "cell_type": "code",
      "source": [
        "df= pd.DataFrame(data)\n",
        "df"
      ],
      "metadata": {
        "id": "5dLGgG2LzV3E"
      },
      "execution_count": null,
      "outputs": []
    },
    {
      "cell_type": "code",
      "source": [
        "df.sort_values('Revenue', axis = 0, ascending = True,inplace = True)"
      ],
      "metadata": {
        "id": "jRTjTud8-svl"
      },
      "execution_count": null,
      "outputs": []
    },
    {
      "cell_type": "code",
      "source": [
        "df"
      ],
      "metadata": {
        "id": "R7tc3xI5_Sf2"
      },
      "execution_count": null,
      "outputs": []
    },
    {
      "cell_type": "code",
      "source": [
        "df.to_csv(\"Revenue.csv\")"
      ],
      "metadata": {
        "id": "ECrZLOT1wMKX"
      },
      "execution_count": null,
      "outputs": []
    }
  ]
}