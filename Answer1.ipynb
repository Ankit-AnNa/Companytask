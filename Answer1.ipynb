{
  "nbformat": 4,
  "nbformat_minor": 0,
  "metadata": {
    "colab": {
      "name": "Answer1.ipynb",
      "private_outputs": true,
      "provenance": []
    },
    "kernelspec": {
      "name": "python3",
      "display_name": "Python 3"
    },
    "language_info": {
      "name": "python"
    }
  },
  "cells": [
    {
      "cell_type": "code",
      "execution_count": null,
      "metadata": {
        "id": "oQa1TFYt2_vJ"
      },
      "outputs": [],
      "source": [
        "import numpy as np\n",
        "import pandas as pd"
      ]
    },
    {
      "cell_type": "code",
      "source": [
        "df={'Name': [\"A\", \"B\", \"C\", \"D\",\"E\",\"F\",\"G\",\"H\",\"I\",\"J\"],\n",
        "    'Value':[1, 2, None, 3, None, 6, 8, None, 11, 12]}\n",
        "df = pd.DataFrame(df)\n",
        "df"
      ],
      "metadata": {
        "id": "rFYqbOZ5gmJz"
      },
      "execution_count": null,
      "outputs": []
    },
    {
      "cell_type": "markdown",
      "source": [
        "* *Upper table need to replace 'None' Values by mean of 'Value' column so next we find mean and then replace it.*"
      ],
      "metadata": {
        "id": "EHV3DB-ftZVu"
      }
    },
    {
      "cell_type": "code",
      "source": [
        "df['Value'].mean()"
      ],
      "metadata": {
        "id": "Yu_FJWVjs1Bl"
      },
      "execution_count": null,
      "outputs": []
    },
    {
      "cell_type": "code",
      "source": [
        "df['Value'].replace(np.NaN ,df['Value'].mean())"
      ],
      "metadata": {
        "id": "QYl-YIp-s1Kr"
      },
      "execution_count": null,
      "outputs": []
    }
  ]
}