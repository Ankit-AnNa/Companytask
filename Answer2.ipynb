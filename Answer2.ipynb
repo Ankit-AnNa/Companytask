{
  "nbformat": 4,
  "nbformat_minor": 0,
  "metadata": {
    "colab": {
      "name": "Answer2.ipynb",
      "private_outputs": true,
      "provenance": []
    },
    "kernelspec": {
      "name": "python3",
      "display_name": "Python 3"
    },
    "language_info": {
      "name": "python"
    }
  },
  "cells": [
    {
      "cell_type": "code",
      "execution_count": null,
      "metadata": {
        "id": "kj46sLwDSnFv"
      },
      "outputs": [],
      "source": [
        "import numpy as np\n",
        "import pandas as pd\n",
        "import datetime\n",
        "from datetime import datetime, timedelta\n",
        "from dateutil.relativedelta import *"
      ]
    },
    {
      "cell_type": "code",
      "source": [
        "l = '2021-01-15'\n",
        "df = datetime.strptime(l, '%Y-%m-%d')\n",
        "df.strftime('%Y-%m-%d')\n",
        "\n",
        "df1 = df + relativedelta(months=+1,days=-1)\n",
        "df2 = df1 + relativedelta(months=+1,days=-1)\n",
        "df3 = df2 + relativedelta(months=+1,days=-1)\n",
        "df4 = df3 + relativedelta(months=+1,days=-1)\n",
        "df5 = df4 + relativedelta(months=+1,days=-1)\n",
        "df6 = df5 + relativedelta(months=+1,days=-1)\n",
        "df7 = df6 + relativedelta(months=+1,days=-1)\n",
        "df8 = df7 + relativedelta(months=+1,days=-1)\n",
        "df9 = df8 + relativedelta(months=+1,days=-1)\n",
        "df10 = df9 + relativedelta(months=+1,days=-1)\n",
        "df11 = df10 + relativedelta(months=+1,days=-1)\n",
        "df12 = df11 + relativedelta(months=+1,days=-1)\n",
        "a = df.strftime('%Y-%m-%d'),'-',df1.strftime('%Y-%m-%d')\n",
        "b = df1.strftime('%Y-%m-%d'), '-' ,df2.strftime('%Y-%m-%d')\n",
        "c = df2.strftime('%Y-%m-%d'), '-' ,df3.strftime('%Y-%m-%d')\n",
        "d = df3.strftime('%Y-%m-%d'), '-' ,df4.strftime('%Y-%m-%d')\n",
        "e = df4.strftime('%Y-%m-%d'), '-' ,df5.strftime('%Y-%m-%d')\n",
        "f = df5.strftime('%Y-%m-%d'), '-' ,df6.strftime('%Y-%m-%d')\n",
        "g = df6.strftime('%Y-%m-%d'), '-' ,df7.strftime('%Y-%m-%d')\n",
        "h = df7.strftime('%Y-%m-%d'), '-' ,df8.strftime('%Y-%m-%d')\n",
        "i = df8.strftime('%Y-%m-%d'), '-' ,df9.strftime('%Y-%m-%d')\n",
        "j = df9.strftime('%Y-%m-%d'), '-' ,df10.strftime('%Y-%m-%d')\n",
        "k = df10.strftime('%Y-%m-%d'), '-' ,df11.strftime('%Y-%m-%d')\n",
        "l = df11.strftime('%Y-%m-%d'), '-' ,df12.strftime('%Y-%m-%d')"
      ],
      "metadata": {
        "id": "BCB-oWRNaoC9"
      },
      "execution_count": null,
      "outputs": []
    },
    {
      "cell_type": "code",
      "source": [
        "data={'DATE': [a , b, c, d, e, f, g, f, i, j, k, l,a , b, c, d, e, f, g, f, i, j, k, l,a , b, c, d, e, f, g, f, i, j, k, l,a , b, c, d, e, f, g, f, i, j, k, l],\n",
        "      'REGION':['North','North','North','North','North','North','North','North','North','North','North','North','South','South','South','South','South','South','South','South','South','South','South','South','West','West','West','West','West','West','West','West','West','West','West','West','East','East','East','East','East','East','East','East','East','East','East','East'],\n",
        "      'SALES %':[2,5,11,2.6,3.5,5.55,.25,3.2,4.3,9,12,10,2.1, 12.3, 0.3, 0.25, 13.5, 7.0, -5.6, 2.89, -1.32, 3.2, 6, 1, 1, 2, 2.6, 5.3, 8.9, 9, 7.9, 6, 12.3, 4.63, -3.2, 2.13, 11, 15, 13, 6.3, 3.23, 2.3, 6.3, 9.3, 4.3 ,1.3,2.3, -0.2]}"
      ],
      "metadata": {
        "id": "7aIG0w2WaoFz"
      },
      "execution_count": null,
      "outputs": []
    },
    {
      "cell_type": "code",
      "source": [
        "df= pd.DataFrame(data)\n",
        "df"
      ],
      "metadata": {
        "id": "YI23pSyGaoH3"
      },
      "execution_count": null,
      "outputs": []
    },
    {
      "cell_type": "code",
      "source": [
        "final = df.groupby(['REGION', 'DATE'])\n",
        "final.first(10)"
      ],
      "metadata": {
        "id": "EBnOACDxU8aE"
      },
      "execution_count": null,
      "outputs": []
    }
  ]
}